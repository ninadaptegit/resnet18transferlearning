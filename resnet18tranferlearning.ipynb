{
  "cells": [
    {
      "cell_type": "code",
      "execution_count": null,
      "metadata": {
        "id": "fQZWXBj3JQLc"
      },
      "outputs": [],
      "source": [
        "import torch\n",
        "import torch.nn as nn\n",
        "import torch.nn.functional as F\n",
        "import torchvision.models as models\n",
        "import torchvision\n",
        "from torchvision.transforms import v2\n",
        "from torchvision import transforms\n",
        "import matplotlib.pyplot as plt\n",
        "from torch.utils.data import TensorDataset, DataLoader\n",
        "import numpy as np\n",
        "from sklearn.metrics import precision_score, recall_score\n",
        "from torchinfo import summary\n",
        "\n",
        "import json"
      ]
    },
    {
      "cell_type": "code",
      "execution_count": null,
      "metadata": {
        "id": "Fj3Hta8xJU3Y"
      },
      "outputs": [],
      "source": [
        "device = \"cuda\" if torch.cuda.is_available() else \"cpu\""
      ]
    },
    {
      "cell_type": "code",
      "execution_count": null,
      "metadata": {
        "colab": {
          "base_uri": "https://localhost:8080/",
          "height": 36
        },
        "id": "PgWkBNgmJZOI",
        "outputId": "1111d644-6657-43c0-c753-bce08757721e"
      },
      "outputs": [],
      "source": [
        "device"
      ]
    },
    {
      "cell_type": "markdown",
      "metadata": {
        "id": "HrnbZdQrJhRo"
      },
      "source": [
        "##### 1. `Download and preprocess the data`"
      ]
    },
    {
      "cell_type": "code",
      "execution_count": null,
      "metadata": {
        "colab": {
          "base_uri": "https://localhost:8080/"
        },
        "id": "LYnQO7j-JbM8",
        "outputId": "fdff5f7f-a0d2-46ce-b463-fcd915931185"
      },
      "outputs": [],
      "source": [
        "\n",
        "train = torchvision.datasets.CIFAR10(root=\"./cifar10\",train=True,download=True)\n",
        "test = torchvision.datasets.CIFAR10(root=\"./cifar10\",train=False,download=True)"
      ]
    },
    {
      "cell_type": "code",
      "execution_count": null,
      "metadata": {
        "colab": {
          "base_uri": "https://localhost:8080/"
        },
        "id": "PAARuBD7hASt",
        "outputId": "f834e08c-cf24-4d52-81b6-252921ecf6e3"
      },
      "outputs": [],
      "source": [
        "classes = train.classes\n",
        "classes"
      ]
    },
    {
      "cell_type": "code",
      "execution_count": null,
      "metadata": {
        "id": "4pZVX3IOJmxC"
      },
      "outputs": [],
      "source": [
        "X_train = torch.from_numpy(train.data)\n",
        "y_train = torch.tensor(train.targets)\n",
        "X_test = torch.from_numpy(test.data)\n",
        "y_test = torch.tensor(test.targets)"
      ]
    },
    {
      "cell_type": "code",
      "execution_count": null,
      "metadata": {
        "id": "V656-m2aXLsX"
      },
      "outputs": [],
      "source": [
        "positive_class_idx = 1          # Automobiles\n",
        "examples_per_class = 100\n",
        "sz_img = 224\n"
      ]
    },
    {
      "cell_type": "code",
      "execution_count": null,
      "metadata": {
        "id": "Uk8o8M_bbQAO"
      },
      "outputs": [],
      "source": [
        "def divide_data(X,y,pos_cls,num):\n",
        "  pos = (y==pos_cls)\n",
        "  y_hold_true = pos.nonzero(as_tuple=True)[0]\n",
        "  torch.manual_seed(42)\n",
        "  chosen_true = y_hold_true[torch.randperm(len(y_hold_true))[:num]]\n",
        "\n",
        "  neg = (y!=pos_cls)\n",
        "  y_hold_false = neg.nonzero(as_tuple=True)[0]\n",
        "  torch.manual_seed(42)\n",
        "  chosen_false = y_hold_false[torch.randperm(len(y_hold_false))[:num]]\n",
        "\n",
        "  y_hold = torch.cat([chosen_true,chosen_false])\n",
        "  y_hold = y_hold[torch.randperm(len(y_hold))]\n",
        "  X_hold = X[y_hold]\n",
        "  y_hold = (y[y_hold] == pos_cls)\n",
        "  return X_hold,y_hold\n",
        "\n",
        "X_train100,y_train100 = divide_data(X_train,y_train,positive_class_idx,examples_per_class)"
      ]
    },
    {
      "cell_type": "code",
      "execution_count": null,
      "metadata": {
        "id": "tloV801sefyg"
      },
      "outputs": [],
      "source": [
        "X_test1000,y_test1000 = divide_data(X_test,y_test,positive_class_idx,1000)\n"
      ]
    },
    {
      "cell_type": "code",
      "execution_count": null,
      "metadata": {
        "id": "a-YXLRjqfGXa"
      },
      "outputs": [],
      "source": [
        "class MyDataset(torch.utils.data.Dataset):\n",
        "  def __init__(self,X,y,transform=None,target_transform = None):\n",
        "    self.X = X\n",
        "    self.y = y\n",
        "    self.transform = transform\n",
        "    self.target_transform = target_transform\n",
        "\n",
        "  def __len__(self):\n",
        "    return len(self.X)\n",
        "\n",
        "  def __getitem__(self,idx):\n",
        "    x = self.X[idx]\n",
        "    y = self.y[idx]\n",
        "\n",
        "    if self.transform:\n",
        "      x = self.transform(x)\n",
        "    if self.target_transform:\n",
        "      y = self.target_transform(y)\n",
        "    return x,y"
      ]
    },
    {
      "cell_type": "code",
      "execution_count": null,
      "metadata": {
        "id": "MfrDhD96mbse"
      },
      "outputs": [],
      "source": [
        "class MyTransform():\n",
        "  def __init__(self,mean,std):\n",
        "    self.mean = torch.tensor(mean).view(3,1,1)\n",
        "    self.std = torch.tensor(std).view(3,1,1)\n",
        "\n",
        "  def __call__(self,x):\n",
        "    if x.dtype == torch.uint8:\n",
        "            x = x.float() / 255.0\n",
        "    else:\n",
        "      x  = x/255.0\n",
        "    x = x.permute(2,0,1)\n",
        "    x = (x-self.mean)/self.std\n",
        "\n",
        "    return x\n",
        "\n",
        "mytransform = MyTransform(mean=[0.485, 0.456, 0.406],std=[0.229, 0.224, 0.225])"
      ]
    },
    {
      "cell_type": "code",
      "execution_count": null,
      "metadata": {
        "id": "WX0Du5fui82f"
      },
      "outputs": [],
      "source": [
        "feature_transform = transforms.Compose([\n",
        "\n",
        "    mytransform,\n",
        "    transforms.Resize((sz_img,sz_img))\n",
        "])\n",
        "label_transform = transforms.Compose([\n",
        "    v2.ToDtype(torch.float32)\n",
        "])\n"
      ]
    },
    {
      "cell_type": "code",
      "execution_count": null,
      "metadata": {
        "id": "9JSlrCa4nkYI"
      },
      "outputs": [],
      "source": [
        "test_dataset = MyDataset(X_test1000,y_test1000,transform=feature_transform,target_transform=label_transform)"
      ]
    },
    {
      "cell_type": "code",
      "execution_count": null,
      "metadata": {
        "id": "rk8UvCLni80u"
      },
      "outputs": [],
      "source": [
        "train_dataset100 = MyDataset(X_train100,y_train100,transform=feature_transform,target_transform=label_transform)\n"
      ]
    },
    {
      "cell_type": "code",
      "execution_count": null,
      "metadata": {
        "id": "HkTYJ4pRi8yu"
      },
      "outputs": [],
      "source": [
        "train100_data_loader = torch.utils.data.DataLoader(train_dataset100,batch_size=16,shuffle=True)\n",
        "test_data_loader = torch.utils.data.DataLoader(test_dataset,batch_size=16,shuffle=True)\n"
      ]
    },
    {
      "cell_type": "code",
      "execution_count": null,
      "metadata": {
        "id": "XkENDKOMi8wt"
      },
      "outputs": [],
      "source": [
        "torch.manual_seed(42)\n",
        "class CustomBaselineModel(nn.Module):\n",
        "    def __init__(self):\n",
        "        super().__init__()\n",
        "        self.cnns = nn.Sequential(\n",
        "            nn.Conv2d(3, 32, kernel_size=3, stride=1, padding=1),   \n",
        "            nn.ReLU(),\n",
        "            nn.MaxPool2d(2),                                        \n",
        "\n",
        "            nn.Conv2d(32, 64, kernel_size=3, padding=1),            \n",
        "            nn.ReLU(),\n",
        "            nn.MaxPool2d(2),                                        \n",
        "\n",
        "            nn.Conv2d(64, 128, kernel_size=3, padding=1),           \n",
        "            nn.ReLU(),\n",
        "            nn.AdaptiveAvgPool2d((1, 1))                           \n",
        "        )\n",
        "        self.linear_layers = nn.Sequential(\n",
        "            nn.Flatten(),         # [128]\n",
        "            nn.Linear(128, 1024),\n",
        "            nn.ReLU(),\n",
        "            nn.Linear(1024, 1)\n",
        "        )\n",
        "\n",
        "    def forward(self, x):\n",
        "        x = self.cnns(x)\n",
        "        x = self.linear_layers(x)\n",
        "        return x\n",
        "\n",
        "\n",
        "basemodel = CustomBaselineModel().to(device)"
      ]
    },
    {
      "cell_type": "code",
      "execution_count": null,
      "metadata": {},
      "outputs": [],
      "source": [
        "import copy\n",
        "\n",
        "def train_model_with_early_stopping(model, train_loader, test_loader, device, max_epochs=30, lr=1e-3, patience=5):\n",
        "    model = model.to(device)\n",
        "    optimizer = torch.optim.Adam(filter(lambda p: p.requires_grad, model.parameters()), lr=lr)\n",
        "    criterion = torch.nn.BCEWithLogitsLoss()\n",
        "\n",
        "    train_losses, test_losses = [], []\n",
        "    train_accuracies, test_accuracies = [], []\n",
        "    test_precisions, test_recalls = [], []\n",
        "\n",
        "    best_acc = 0\n",
        "    best_model_wts = copy.deepcopy(model.state_dict())\n",
        "    wait = 0\n",
        "\n",
        "    for epoch in range(max_epochs):\n",
        "        model.train()\n",
        "        train_loss = 0.0\n",
        "        correct = 0\n",
        "        total = 0\n",
        "\n",
        "        for inputs, labels in train_loader:\n",
        "            inputs, labels = inputs.to(device), labels.to(device).float()\n",
        "\n",
        "            optimizer.zero_grad()\n",
        "            outputs = model(inputs).squeeze(1)\n",
        "            loss = criterion(outputs, labels)\n",
        "            loss.backward()\n",
        "            optimizer.step()\n",
        "\n",
        "            train_loss += loss.item() * inputs.size(0)\n",
        "            preds = (torch.sigmoid(outputs) > 0.5).long()\n",
        "            correct += (preds == labels.long()).sum().item()\n",
        "            total += labels.size(0)\n",
        "\n",
        "        avg_train_loss = train_loss / total\n",
        "        train_acc = correct / total\n",
        "        train_losses.append(avg_train_loss)\n",
        "        train_accuracies.append(train_acc)\n",
        "\n",
        "        # Evaluation\n",
        "        model.eval()\n",
        "        test_loss = 0.0\n",
        "        correct = 0\n",
        "        total = 0\n",
        "        all_preds = []\n",
        "        all_labels = []\n",
        "\n",
        "        with torch.no_grad():\n",
        "            for inputs, labels in test_loader:\n",
        "                inputs, labels = inputs.to(device), labels.to(device).float()\n",
        "                outputs = model(inputs).squeeze(1)\n",
        "                loss = criterion(outputs, labels)\n",
        "\n",
        "                test_loss += loss.item() * inputs.size(0)\n",
        "                preds = (torch.sigmoid(outputs) > 0.5).long()\n",
        "                correct += (preds == labels.long()).sum().item()\n",
        "                total += labels.size(0)\n",
        "\n",
        "                all_preds.extend(preds.cpu().numpy())\n",
        "                all_labels.extend(labels.cpu().numpy())\n",
        "\n",
        "        avg_test_loss = test_loss / total\n",
        "        test_acc = correct / total\n",
        "        precision = precision_score(all_labels, all_preds, pos_label=1)\n",
        "        recall = recall_score(all_labels, all_preds, pos_label=1)\n",
        "\n",
        "        test_losses.append(avg_test_loss)\n",
        "        test_accuracies.append(test_acc)\n",
        "        test_precisions.append(precision)\n",
        "        test_recalls.append(recall)\n",
        "\n",
        "        print(f\"Epoch {epoch+1}/{max_epochs} | Train Loss: {avg_train_loss:.4f} | Train Acc: {train_acc:.4f} | \"\n",
        "              f\"Test Loss: {avg_test_loss:.4f} | Test Acc: {test_acc:.4f} | Precision: {precision:.4f} | Recall: {recall:.4f}\")\n",
        "\n",
        "        # Early stopping\n",
        "        if test_acc > best_acc:\n",
        "            best_acc = test_acc\n",
        "            best_model_wts = copy.deepcopy(model.state_dict())\n",
        "            wait = 0\n",
        "        else:\n",
        "            wait += 1\n",
        "            if wait >= patience:\n",
        "                print(f\"Early stopping at epoch {epoch+1}\")\n",
        "                break\n",
        "\n",
        "    model.load_state_dict(best_model_wts)\n",
        "\n",
        "    return {\n",
        "        \"train_losses\": train_losses,\n",
        "        \"test_losses\": test_losses,\n",
        "        \"train_accuracies\": train_accuracies,\n",
        "        \"test_accuracies\": test_accuracies,\n",
        "        \"test_precisions\": test_precisions,\n",
        "        \"test_recalls\": test_recalls,\n",
        "        \"best_test_accuracy\": best_acc\n",
        "    }\n",
        "def save_metrics(metrics_dict, filename='model_metrics.json'):\n",
        "    serializable_metrics = {}\n",
        "\n",
        "    for k, v in metrics_dict.items():\n",
        "        if isinstance(v, list):\n",
        "            serializable_metrics[k] = list(map(float, v))\n",
        "        else:  # handle scalar values like best_test_accuracy\n",
        "            serializable_metrics[k] = float(v)\n",
        "\n",
        "    with open(filename, 'w') as f:\n",
        "        json.dump(serializable_metrics, f, indent=4)\n",
        "\n",
        "def load_metrics(filename='model_metrics.json'):\n",
        "    with open(filename, 'r') as f:\n",
        "        metrics = json.load(f)\n",
        "\n",
        "    parsed_metrics = {}\n",
        "    for k, v in metrics.items():\n",
        "        if isinstance(v, list):\n",
        "            parsed_metrics[k] = [float(val) for val in v]\n",
        "        else:\n",
        "            parsed_metrics[k] = float(v)\n",
        "\n",
        "    return parsed_metrics"
      ]
    },
    {
      "cell_type": "code",
      "execution_count": null,
      "metadata": {
        "colab": {
          "base_uri": "https://localhost:8080/"
        },
        "id": "qsNgNp_3tZxD",
        "outputId": "5cda1e5c-effb-428e-b3bd-ed48663740b9"
      },
      "outputs": [],
      "source": [
        "base100 = train_model_with_early_stopping(basemodel, train100_data_loader, test_data_loader, device, max_epochs=50, lr=1e-3, patience=5)"
      ]
    },
    {
      "cell_type": "code",
      "execution_count": null,
      "metadata": {
        "colab": {
          "base_uri": "https://localhost:8080/",
          "height": 542
        },
        "id": "TSbY9-0vtaMy",
        "outputId": "d2fde458-84b2-4220-8d8f-518237a0f04f"
      },
      "outputs": [],
      "source": [
        "plt.figure(figsize=(10, 6))\n",
        "plt.plot([x for x in range(len(base100[\"train_losses\"]))],base100[\"train_losses\"], label=\"Train Loss\")\n",
        "plt.plot([x for x in range(len(base100[\"train_losses\"]))],base100[\"test_losses\"], label=\"Test Loss\")\n",
        "plt.xlabel(\"Epochs\")\n",
        "plt.ylabel(\"Loss\")\n",
        "plt.legend()\n",
        "plt.show()"
      ]
    },
    {
      "cell_type": "code",
      "execution_count": null,
      "metadata": {
        "colab": {
          "base_uri": "https://localhost:8080/",
          "height": 542
        },
        "id": "S0LFKi-IwQu2",
        "outputId": "07602853-27e6-4af2-8ab0-9a97071be4da"
      },
      "outputs": [],
      "source": [
        "plt.figure(figsize=(10, 6))\n",
        "plt.plot([x for x in range(len(base100[\"train_losses\"]))],base100[\"train_accuracies\"], label=\"Train Accuracy\")\n",
        "plt.plot([x for x in range(len(base100[\"train_losses\"]))],base100[\"test_accuracies\"], label=\"Test Accuracy\")\n",
        "plt.xlabel(\"Epochs\")\n",
        "plt.ylabel(\"Loss\")\n",
        "plt.legend()\n",
        "plt.show()"
      ]
    },
    {
      "cell_type": "code",
      "execution_count": null,
      "metadata": {
        "id": "6g2UNUzuy9f7"
      },
      "outputs": [],
      "source": [
        "save_metrics(base100, filename='base100.json')"
      ]
    },
    {
      "cell_type": "markdown",
      "metadata": {
        "id": "StvW8uDE0Yok"
      },
      "source": [
        "Train the resnet18 pretrained model on the data"
      ]
    },
    {
      "cell_type": "code",
      "execution_count": null,
      "metadata": {
        "colab": {
          "base_uri": "https://localhost:8080/"
        },
        "id": "SjQ_7cEiz60G",
        "outputId": "bf5af5bb-2bd1-4545-9bff-e90fad37c9e0"
      },
      "outputs": [],
      "source": [
        "torch.manual_seed(42)\n",
        "resnet18_pretrainedmodel = models.resnet18(pretrained = True)\n",
        "resnet18_pretrainedmodel.fc = nn.Linear(resnet18_pretrainedmodel.fc.in_features, 1)\n",
        "for params in resnet18_pretrainedmodel.parameters():\n",
        "  params.requires_grad = False\n",
        "for param in resnet18_pretrainedmodel.fc.parameters():\n",
        "    param.requires_grad = True\n",
        "for param in resnet18_pretrainedmodel.layer4.parameters():\n",
        "    param.requires_grad = True\n",
        "resnet18_pretrainedmodel.to(device)"
      ]
    },
    {
      "cell_type": "code",
      "execution_count": null,
      "metadata": {
        "colab": {
          "base_uri": "https://localhost:8080/",
          "height": 286
        },
        "id": "05uY52US0MhS",
        "outputId": "eb4a90a6-b077-4138-9c64-09027b71f820"
      },
      "outputs": [],
      "source": [
        "resnet18_pretrained100 = train_model_with_early_stopping(resnet18_pretrainedmodel, train100_data_loader, test_data_loader, device, max_epochs=50, lr=1e-3, patience=5)"
      ]
    },
    {
      "cell_type": "code",
      "execution_count": null,
      "metadata": {
        "id": "eaT-D4jt0Ps2"
      },
      "outputs": [],
      "source": [
        "plt.figure(figsize=(10, 6))\n",
        "plt.plot([x for x in range(len(resnet18_pretrained100[\"train_losses\"]))],resnet18_pretrained100[\"train_losses\"], label=\"Train Loss\")\n",
        "plt.plot([x for x in range(len(resnet18_pretrained100[\"train_losses\"]))],resnet18_pretrained100[\"test_losses\"], label=\"Test Loss\")\n",
        "plt.xlabel(\"Epochs\")\n",
        "plt.ylabel(\"Loss\")\n",
        "plt.legend()\n",
        "plt.show()"
      ]
    },
    {
      "cell_type": "code",
      "execution_count": null,
      "metadata": {},
      "outputs": [],
      "source": [
        "plt.figure(figsize=(10, 6))\n",
        "plt.plot([x for x in range(len(resnet18_pretrained100[\"train_accuracies\"]))],resnet18_pretrained100[\"train_accuracies\"], label=\"Train Accuracy\")\n",
        "plt.plot([x for x in range(len(resnet18_pretrained100[\"train_accuracies\"]))],resnet18_pretrained100[\"test_accuracies\"], label=\"Test Accuracy\")\n",
        "plt.xlabel(\"Epochs\")\n",
        "plt.ylabel(\"Accuracies\")\n",
        "plt.legend()\n",
        "plt.show()"
      ]
    },
    {
      "cell_type": "code",
      "execution_count": null,
      "metadata": {},
      "outputs": [],
      "source": [
        "save_metrics(resnet18_pretrained100, filename='resnet18_pretrained100.json')"
      ]
    },
    {
      "cell_type": "code",
      "execution_count": null,
      "metadata": {},
      "outputs": [],
      "source": [
        "\n",
        "torch.manual_seed(42)\n",
        "class BasicBlock(nn.Module):\n",
        "    def __init__(self, in_channels, out_channels, stride=1, downsample=None):\n",
        "        super(BasicBlock, self).__init__()\n",
        "        self.conv1 = nn.Conv2d(in_channels, out_channels, kernel_size=3,\n",
        "                               stride=stride, padding=1, bias=False)\n",
        "        self.bn1 = nn.BatchNorm2d(out_channels)\n",
        "        self.relu = nn.ReLU(inplace=True)\n",
        "        self.conv2 = nn.Conv2d(out_channels, out_channels, kernel_size=3,\n",
        "                               stride=1, padding=1, bias=False)\n",
        "        self.bn2 = nn.BatchNorm2d(out_channels)\n",
        "        self.downsample = downsample\n",
        "\n",
        "    def forward(self, x):\n",
        "        identity = x\n",
        "\n",
        "        out = self.conv1(x)\n",
        "        out = self.bn1(out)\n",
        "        out = self.relu(out)\n",
        "\n",
        "        out = self.conv2(out)\n",
        "        out = self.bn2(out)\n",
        "\n",
        "        if self.downsample is not None:\n",
        "            identity = self.downsample(x)\n",
        "\n",
        "        out += identity\n",
        "        out = self.relu(out)\n",
        "\n",
        "        return out\n",
        "\n",
        "class MyResNet18(nn.Module):\n",
        "    def __init__(self):\n",
        "        super(MyResNet18, self).__init__()\n",
        "        self.conv1 = nn.Conv2d(3, 64, kernel_size=7, stride=2, padding=3, bias=False)\n",
        "        self.bn1 = nn.BatchNorm2d(64)\n",
        "        self.relu = nn.ReLU(inplace=True)\n",
        "        self.maxpool = nn.MaxPool2d(kernel_size=3, stride=2, padding=1)\n",
        "\n",
        "        self.layer1 = nn.Sequential(\n",
        "            BasicBlock(64, 64),\n",
        "            BasicBlock(64, 64)\n",
        "        )\n",
        "\n",
        "        downsample2 = nn.Sequential(\n",
        "            nn.Conv2d(64, 128, kernel_size=1, stride=2, bias=False),\n",
        "            nn.BatchNorm2d(128)\n",
        "        )\n",
        "        self.layer2 = nn.Sequential(\n",
        "            BasicBlock(64, 128, stride=2, downsample=downsample2),\n",
        "            BasicBlock(128, 128)\n",
        "        )\n",
        "\n",
        "        downsample3 = nn.Sequential(\n",
        "            nn.Conv2d(128, 256, kernel_size=1, stride=2, bias=False),\n",
        "            nn.BatchNorm2d(256)\n",
        "        )\n",
        "        self.layer3 = nn.Sequential(\n",
        "            BasicBlock(128, 256, stride=2, downsample=downsample3),\n",
        "            BasicBlock(256, 256)\n",
        "        )\n",
        "\n",
        "        downsample4 = nn.Sequential(\n",
        "            nn.Conv2d(256, 512, kernel_size=1, stride=2, bias=False),\n",
        "            nn.BatchNorm2d(512)\n",
        "        )\n",
        "        self.layer4 = nn.Sequential(\n",
        "            BasicBlock(256, 512, stride=2, downsample=downsample4),\n",
        "            BasicBlock(512, 512)\n",
        "        )\n",
        "\n",
        "        self.avgpool = nn.AdaptiveAvgPool2d((1, 1))\n",
        "        self.fc = nn.Linear(512, 1)  # binary classification\n",
        "\n",
        "    def forward(self, x):\n",
        "        x = self.conv1(x)\n",
        "        x = self.bn1(x)\n",
        "        x = self.relu(x)\n",
        "        x = self.maxpool(x)\n",
        "\n",
        "        x = self.layer1(x)\n",
        "        x = self.layer2(x)\n",
        "        x = self.layer3(x)\n",
        "        x = self.layer4(x)\n",
        "\n",
        "        x = self.avgpool(x)\n",
        "        x = torch.flatten(x, 1)\n",
        "        x = self.fc(x)\n",
        "\n",
        "        return x\n",
        "\n",
        "\n",
        "customresnet18 = MyResNet18().to(device)"
      ]
    },
    {
      "cell_type": "code",
      "execution_count": null,
      "metadata": {},
      "outputs": [],
      "source": [
        "customresnet18100 = train_model_with_early_stopping(customresnet18, train100_data_loader, test_data_loader, device, max_epochs=50, lr=1e-3, patience=5)"
      ]
    },
    {
      "cell_type": "code",
      "execution_count": null,
      "metadata": {},
      "outputs": [],
      "source": [
        "plt.figure(figsize=(10, 6))\n",
        "plt.plot([x for x in range(len(customresnet18100[\"train_losses\"]))],customresnet18100[\"train_losses\"], label=\"Train Loss\")\n",
        "plt.plot([x for x in range(len(customresnet18100[\"train_losses\"]))],customresnet18100[\"test_losses\"], label=\"Test Loss\")\n",
        "plt.xlabel(\"Epochs\")\n",
        "plt.ylabel(\"Loss\")\n",
        "plt.legend()\n",
        "plt.show()"
      ]
    },
    {
      "cell_type": "code",
      "execution_count": null,
      "metadata": {},
      "outputs": [],
      "source": [
        "plt.figure(figsize=(10, 6))\n",
        "plt.plot([x for x in range(len(customresnet18100[\"train_losses\"]))],customresnet18100[\"train_accuracies\"], label=\"Train Accuracy\")\n",
        "plt.plot([x for x in range(len(customresnet18100[\"train_losses\"]))],customresnet18100[\"test_accuracies\"], label=\"Test Accuracy\")\n",
        "plt.xlabel(\"Epochs\")\n",
        "plt.ylabel(\"Loss\")\n",
        "plt.legend()\n",
        "plt.show()"
      ]
    },
    {
      "cell_type": "code",
      "execution_count": null,
      "metadata": {},
      "outputs": [],
      "source": [
        "plt.figure(figsize=(10, 6))\n",
        "plt.plot([x for x in range(len(base100[\"test_losses\"]))],base100[\"test_losses\"], label=\"Test Loss base200\")\n",
        "plt.plot([x for x in range(len(resnet18_pretrained100[\"test_losses\"]))],resnet18_pretrained100[\"test_losses\"], label=\"Test Loss pretrained Resnet18\")\n",
        "plt.plot([x for x in range(len(customresnet18100[\"test_losses\"]))],customresnet18100[\"test_losses\"], label=\"Test Loss Custom Resnet18\")\n",
        "plt.xlabel(\"Epochs\")\n",
        "plt.ylabel(\"Loss\")\n",
        "plt.legend()\n",
        "plt.show()"
      ]
    },
    {
      "cell_type": "code",
      "execution_count": null,
      "metadata": {},
      "outputs": [],
      "source": [
        "plt.figure(figsize=(10, 6))\n",
        "plt.plot([x for x in range(len(base100[\"train_accuracies\"]))],base100[\"train_accuracies\"], label=\"Test Accuracy base200\")\n",
        "plt.plot([x for x in range(len(resnet18_pretrained100[\"train_accuracies\"]))],resnet18_pretrained100[\"train_accuracies\"], label=\"Test Accuracy pretrained Resnet18\")\n",
        "plt.plot([x for x in range(len(customresnet18100[\"train_accuracies\"]))],customresnet18100[\"train_accuracies\"], label=\"Test Accuracy Custom Resnet18\")\n",
        "plt.xlabel(\"Epochs\")\n",
        "plt.ylabel(\"Accuracy\")\n",
        "plt.legend()\n",
        "plt.show()"
      ]
    },
    {
      "cell_type": "code",
      "execution_count": null,
      "metadata": {},
      "outputs": [],
      "source": [
        "# load_metrics(filename='model_metrics.json')\n",
        "def plot_graphs(lists , key , y_label , x_label,labels):\n",
        "    plt.figure(figsize=(10,7))\n",
        "    for idx,ls in enumerate(lists):\n",
        "        plt.plot([x for x in range(len(ls[key]))],ls[key],label=labels[idx])\n",
        "    plt.xlabel(x_label)\n",
        "    plt.ylabel(y_label)\n",
        "    plt.legend()\n",
        "    plt.show()\n",
        "\n"
      ]
    },
    {
      "cell_type": "code",
      "execution_count": null,
      "metadata": {},
      "outputs": [],
      "source": []
    },
    {
      "cell_type": "code",
      "execution_count": null,
      "metadata": {},
      "outputs": [],
      "source": [
        "base100 = load_metrics(filename='base100.json')\n",
        "base1000 = load_metrics(filename='base1000.json')\n",
        "base5000  = load_metrics(filename='base5000.json')\n",
        "custom100  = load_metrics(filename='customresnet18100.json')\n",
        "custom1000  = load_metrics(filename='customresnet181000.json')\n",
        "custom5000  = load_metrics(filename='customresnet185000.json')\n",
        "pretrained100  = load_metrics(filename='resnet18_pretrained100.json')\n",
        "pretrained1000  = load_metrics(filename='resnet18_pretrained1000.json')\n",
        "pretrained5000  = load_metrics(filename='resnet18_pretrained5000.json')"
      ]
    },
    {
      "cell_type": "code",
      "execution_count": null,
      "metadata": {},
      "outputs": [],
      "source": [
        "plot_graphs([base100,pretrained100,custom100],\"test_accuracies\",y_label=\"Test Accuracy\",x_label=\"Epoch\",labels=[\"base model Accuracy\",\"Pretrained Resnet18 Accuracy\",\"Custom Resnet18 Accuracy\"])\n",
        "plot_graphs([base1000,pretrained1000,custom1000],\"test_accuracies\",y_label=\"Test Accuracy\",x_label=\"Epoch\",labels=[\"base model Accuracy\",\"Pretrained Resnet18 Accuracy\",\"Custom Resnet18 Accuracy\"])\n",
        "plot_graphs([base5000,pretrained5000,custom5000],\"test_accuracies\",y_label=\"Test Accuracy\",x_label=\"Epoch\",labels=[\"base model Accuracy\",\"Pretrained Resnet18 Accuracy\",\"Custom Resnet18 Accuracy\"])\n"
      ]
    },
    {
      "cell_type": "code",
      "execution_count": null,
      "metadata": {},
      "outputs": [],
      "source": [
        "plot_graphs([base100,pretrained100,custom100],\"test_losses\",y_label=\"Test Loss\",x_label=\"Epoch\",labels=[\"base model Loss\",\"Pretrained Resnet18 Loss\",\"Custom Resnet18 Loss\"])\n",
        "plot_graphs([base1000,pretrained1000,custom1000],\"test_losses\",y_label=\"Test Loss\",x_label=\"Epoch\",labels=[\"base model Loss\",\"Pretrained Resnet18 Loss\",\"Custom Resnet18 Loss\"])\n",
        "plot_graphs([base5000,pretrained5000,custom5000],\"test_losses\",y_label=\"Test Loss\",x_label=\"Epoch\",labels=[\"base model Loss\",\"Pretrained Resnet18 Loss\",\"Custom Resnet18 Loss\"])\n"
      ]
    },
    {
      "cell_type": "code",
      "execution_count": null,
      "metadata": {},
      "outputs": [],
      "source": [
        "base100.keys()"
      ]
    },
    {
      "cell_type": "code",
      "execution_count": null,
      "metadata": {},
      "outputs": [],
      "source": [
        "base_best_acc = [base100['best_test_accuracy'],base1000['best_test_accuracy'],base5000['best_test_accuracy']]\n",
        "custom_best_acc = [custom100['best_test_accuracy'],custom1000['best_test_accuracy'],custom5000['best_test_accuracy']]\n",
        "pretrained_best_acc = [pretrained100['best_test_accuracy'],pretrained1000['best_test_accuracy'],pretrained5000['best_test_accuracy']]\n"
      ]
    },
    {
      "cell_type": "code",
      "execution_count": null,
      "metadata": {},
      "outputs": [],
      "source": [
        "bar_width = 200\n",
        "x = np.array([100,1000,5000])\n",
        "plt.figure(figsize=(8,5))\n",
        "plt.bar(x - bar_width, base_best_acc, width=bar_width, label=\"Base Model\")\n",
        "plt.bar(x, custom_best_acc, width=bar_width, label=\"Custom ResNet18\")\n",
        "plt.bar(x + bar_width, pretrained_best_acc, width=bar_width, label=\"Pretrained ResNet18\")\n",
        "plt.xlabel(\"Number of Training Examples\")\n",
        "plt.ylabel(\"Top Accuracy\")\n",
        "plt.title(\"Top Accuracy vs Training Set Size for Different Models\")\n",
        "plt.xticks(x, [str(size) for size in [100,1000,5000]])\n",
        "plt.ylim(0, 1)\n",
        "plt.legend()\n",
        "plt.grid(True, axis='y')\n",
        "plt.tight_layout()\n",
        "plt.show()"
      ]
    },
    {
      "cell_type": "code",
      "execution_count": null,
      "metadata": {},
      "outputs": [],
      "source": []
    },
    {
      "cell_type": "code",
      "execution_count": null,
      "metadata": {},
      "outputs": [],
      "source": []
    },
    {
      "cell_type": "code",
      "execution_count": null,
      "metadata": {},
      "outputs": [],
      "source": []
    }
  ],
  "metadata": {
    "accelerator": "GPU",
    "colab": {
      "gpuType": "T4",
      "provenance": []
    },
    "kernelspec": {
      "display_name": "myenv",
      "language": "python",
      "name": "python3"
    },
    "language_info": {
      "codemirror_mode": {
        "name": "ipython",
        "version": 3
      },
      "file_extension": ".py",
      "mimetype": "text/x-python",
      "name": "python",
      "nbconvert_exporter": "python",
      "pygments_lexer": "ipython3",
      "version": "3.10.15"
    }
  },
  "nbformat": 4,
  "nbformat_minor": 0
}
